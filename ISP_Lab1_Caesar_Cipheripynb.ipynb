{
  "nbformat": 4,
  "nbformat_minor": 0,
  "metadata": {
    "colab": {
      "provenance": [],
      "collapsed_sections": []
    },
    "kernelspec": {
      "name": "python3",
      "display_name": "Python 3"
    },
    "language_info": {
      "name": "python"
    }
  },
  "cells": [
    {
      "cell_type": "code",
      "execution_count": null,
      "metadata": {
        "id": "fB7-VwuqXRYK",
        "colab": {
          "base_uri": "https://localhost:8080/"
        },
        "outputId": "3f8523df-cb4b-4523-dd40-0dbbb332b6d8"
      },
      "outputs": [
        {
          "output_type": "stream",
          "name": "stdout",
          "text": [
            "5\n",
            "6\n",
            "a is smaller than b\n"
          ]
        }
      ],
      "source": [
        "a=5\n",
        "b=6\n",
        "A=6\n",
        "print(a)\n",
        "print(A)\n",
        "if a<b:\n",
        "  print(\"a is smaller than b\")"
      ]
    },
    {
      "cell_type": "code",
      "source": [
        "num=int(input(\"Enter the number:\"))\n",
        "if num>0:\n",
        "  print(\"Positive number\")\n",
        "elif num==0:\n",
        "  print(\"Zero\")\n",
        "else:\n",
        "  print(\"Negative number\")"
      ],
      "metadata": {
        "colab": {
          "base_uri": "https://localhost:8080/"
        },
        "id": "hgMIxntUWY77",
        "outputId": "e7bb1ef0-6ed3-4b6e-a4cc-fed2f570db6d"
      },
      "execution_count": null,
      "outputs": [
        {
          "output_type": "stream",
          "name": "stdout",
          "text": [
            "Enter the number:2\n",
            "Positive number\n"
          ]
        }
      ]
    },
    {
      "cell_type": "code",
      "source": [
        "for i in range(0,10):\n",
        "  print(\"hi\")"
      ],
      "metadata": {
        "colab": {
          "base_uri": "https://localhost:8080/"
        },
        "id": "D8XUKwYVWw4y",
        "outputId": "d189e073-414e-436c-bd82-6a95e7042379"
      },
      "execution_count": null,
      "outputs": [
        {
          "output_type": "stream",
          "name": "stdout",
          "text": [
            "hi\n",
            "hi\n",
            "hi\n",
            "hi\n",
            "hi\n",
            "hi\n",
            "hi\n",
            "hi\n",
            "hi\n",
            "hi\n"
          ]
        }
      ]
    },
    {
      "cell_type": "code",
      "source": [
        "text=\"MBA TECH\"\n",
        "for i in range(len(text)):\n",
        "  print(text[i])"
      ],
      "metadata": {
        "colab": {
          "base_uri": "https://localhost:8080/"
        },
        "id": "uM6iMxcbXyMY",
        "outputId": "a0916871-48f5-4b4f-e313-aed131e830fa"
      },
      "execution_count": null,
      "outputs": [
        {
          "output_type": "stream",
          "name": "stdout",
          "text": [
            "M\n",
            "B\n",
            "A\n",
            " \n",
            "T\n",
            "E\n",
            "C\n",
            "H\n"
          ]
        }
      ]
    },
    {
      "cell_type": "code",
      "source": [
        "def sum(a,b):\n",
        "  sum1=a+b\n",
        "  print(sum1)\n",
        "  return sum1\n",
        "sum(5,10)"
      ],
      "metadata": {
        "colab": {
          "base_uri": "https://localhost:8080/"
        },
        "id": "BKuJ1KzaZXFn",
        "outputId": "7652ecf9-8800-44dc-eaa8-0f4e6af6d733"
      },
      "execution_count": null,
      "outputs": [
        {
          "output_type": "stream",
          "name": "stdout",
          "text": [
            "15\n"
          ]
        }
      ]
    },
    {
      "cell_type": "code",
      "source": [
        "count=0\n",
        "\n",
        "text=input(\"Enter the text to be checked:\")\n",
        "for i in range(len(text)):\n",
        "  if text[i] in \"aeiouAEIOU\":\n",
        "    count+=1\n",
        "print(\"The vowel count is:\",count)"
      ],
      "metadata": {
        "colab": {
          "base_uri": "https://localhost:8080/"
        },
        "id": "bmk-nCiUbVIK",
        "outputId": "cc1e103c-002a-400a-b626-733722a1555e"
      },
      "execution_count": null,
      "outputs": [
        {
          "output_type": "stream",
          "name": "stdout",
          "text": [
            "Enter the text to be checked:abc eu\n",
            "The vowel count is: 3\n"
          ]
        }
      ]
    },
    {
      "cell_type": "code",
      "source": [
        "text=str(input(\"Enter the word:\"))\n",
        "shift=int(input(\"Enter the key:\"))\n",
        "result=''\n",
        "#Step 2-Traverse\n",
        "for i in range(len(text)):\n",
        "  char=text[i]\n",
        "  print(char)\n",
        "\n",
        "#Step 3- shift as per input\n",
        "for i in range(len(text)):\n",
        "  charsult+chr=text[i]\n",
        "  print(\"Original char\",char)\n",
        "  #result=re\n",
        "\n"
      ],
      "metadata": {
        "colab": {
          "base_uri": "https://localhost:8080/"
        },
        "id": "Mv84Ll2OebdE",
        "outputId": "a2884204-5936-417b-e474-19c450e3356f"
      },
      "execution_count": null,
      "outputs": [
        {
          "output_type": "stream",
          "name": "stdout",
          "text": [
            "Enter the word:a\n",
            "Enter the key:3\n",
            "a\n",
            "Original char a\n",
            "97\n",
            "a\n"
          ]
        }
      ]
    },
    {
      "cell_type": "code",
      "source": [
        "#ord()- finds ASCII value\n",
        "#chr()- finds character from ASCII value\n",
        "value=ord(\"a\")\n",
        "print(value)\n",
        "print(chr(value))"
      ],
      "metadata": {
        "id": "R9FzizjjlVvF"
      },
      "execution_count": null,
      "outputs": []
    },
    {
      "cell_type": "markdown",
      "source": [
        "Caesar cipher encryption"
      ],
      "metadata": {
        "id": "LjkfsaoBeymM"
      }
    },
    {
      "cell_type": "code",
      "source": [
        "def encrypt(text,s):\n",
        "  result = \"\"\n",
        "  # traverse text\n",
        "  print(s)\n",
        "  for i in range(len(text)):\n",
        "    char = text[i]\n",
        "\n",
        "    # Encrypt uppercase characters\n",
        "    if (char.isupper()):\n",
        "      result += chr((ord(char) + s-65) % 26 + 65)\n",
        "\n",
        "    # Encrypt lowercase characters\n",
        "    else:\n",
        "      result += chr((ord(char) + s - 97) % 26 + 97)\n",
        "    \n",
        "  return result\n",
        "\n",
        "#check the above function\n",
        "text=str(input(\"enter the word:\"))\n",
        "shift=int(input(\"Enter the key: \"))\n",
        "# print (\"Text : \" + text)\n",
        "# print (\"Shift : \" + str(s))\n",
        "print (\"Cipher: \" + encrypt(text,shift))"
      ],
      "metadata": {
        "id": "L_OQbAISlV5E",
        "colab": {
          "base_uri": "https://localhost:8080/"
        },
        "outputId": "c4e317f7-21d0-42a4-d53b-be3ef527de65"
      },
      "execution_count": null,
      "outputs": [
        {
          "output_type": "stream",
          "name": "stdout",
          "text": [
            "enter the word:abc\n",
            "Enter the key: 3\n",
            "3\n",
            "Cipher: def\n"
          ]
        }
      ]
    },
    {
      "cell_type": "markdown",
      "source": [
        "Caesar cipher decryption"
      ],
      "metadata": {
        "id": "mQtKOegKfPr9"
      }
    },
    {
      "cell_type": "code",
      "source": [
        "def decrypt(text,s):\n",
        "\n",
        "\n",
        "  # Cipher(n) = De-cipher(26-n)\n",
        "  s=26-s \n",
        "  print(s)    \n",
        "  result=\"\" \n",
        "  for i in range(len(text)):\n",
        "      char=text[i]\n",
        "      if(char.isupper()):  \n",
        "          result=result+chr((ord(char)+s-65)%26+65)\n",
        "      else:\n",
        "          result=result+chr((ord(char)+s-97)%26+97)\n",
        "  return result\n",
        "\n",
        "\n",
        "word=str(input(\"enter the word:\"))\n",
        "d=int(input(\"Enter the key: \"))\n",
        "\n",
        "print(\"Encoded word in Caeser cipher is: \",decrypt(word,d))\n"
      ],
      "metadata": {
        "colab": {
          "base_uri": "https://localhost:8080/"
        },
        "id": "FnegOVqQfRMh",
        "outputId": "f5112fdf-a6c9-47cc-c8bf-68009169b384"
      },
      "execution_count": 1,
      "outputs": [
        {
          "output_type": "stream",
          "name": "stdout",
          "text": [
            "enter the word:def\n",
            "Enter the key: 3\n",
            "23\n",
            "Encoded word in Caeser cipher is:  abc\n"
          ]
        }
      ]
    },
    {
      "cell_type": "code",
      "source": [],
      "metadata": {
        "id": "AhJbxriyfR0G"
      },
      "execution_count": null,
      "outputs": []
    }
  ]
}